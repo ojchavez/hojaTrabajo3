{
 "cells": [
  {
   "cell_type": "markdown",
   "metadata": {},
   "source": [
    "# Hoja de Trabajo 3\n",
    "## Oscar Chavez\n",
    "\n",
    "### Nota: creo que las formulas estaban mal. Pero yo las hice como las pedian asi en el pdf."
   ]
  },
  {
   "cell_type": "code",
   "execution_count": 359,
   "metadata": {},
   "outputs": [],
   "source": [
    "class My_regresion():\n",
    "    def __init__(self, x, y):\n",
    "        aux2=[]\n",
    "        sumx=0\n",
    "        sumy=0\n",
    "        sumxy=0\n",
    "        sumxx=0\n",
    "        for i in range(0, len(x)): aux1.append(x[i]*y[i])\n",
    "        for i in range(0, len(x)): aux2.append(x[i]*x[i])\n",
    "        for i in range(0, len(x)): sumx = sumx + x[i]; sumy = sumy + y[i]; sumxy = sumxy + aux1[i]; sumxx = sumxx + aux2[i]\n",
    "        self.B0=(sumxy*len(x)-sumx*sumy)/(len(x)*sumxx-sumx*sumx)    \n",
    "        self.B1=(len(x)*sumxx*sumy-sumx*sumxy)/(len(x)*sumxx-sumx*sumx)\n",
    "        self.x = x\n",
    "        self.y = y\n",
    "    def predict(self,val):\n",
    "        return self.B0+self.B1*val\n",
    "    def predictN(self,vals):\n",
    "        result = []\n",
    "        for i in range(0, len(vals)): result.append(self.B0+self.B1*vals[i])\n",
    "        return result\n",
    "    def r2(self):\n",
    "        Yl=0\n",
    "        for i in range(0, len(self.y)):\n",
    "            Yl = Yl + self.y[i]\n",
    "        Yl=Yl/len(self.y)\n",
    "        r=[]\n",
    "        r2=0\n",
    "        for i in range(0, len(self.y)): r.append((self.B0+self.B1*self.y[i])-Yl)\n",
    "        for i in range(0, len(r)): r.append(r[i]*r[i])\n",
    "        for i in range(0, len(r)): r2 = r2 + r[i]\n",
    "        r=[]\n",
    "        r3=0\n",
    "        for i in range(0, len(self.y)): r.append((self.B0+self.B1*self.y[i])-self.y[i])\n",
    "        for i in range(0, len(r)): r.append(r[i]*r[i])\n",
    "        for i in range(0, len(r)): r3 = r3 + r[i]\n",
    "        r2=r2/r3\n",
    "        return r2\n",
    "    def r(self):\n",
    "        a=self.r2()\n",
    "        a=a**(1/2)\n",
    "        return a\n",
    "    def getAllRegParams(self):\n",
    "        return {'b0':self.B0,'b1':self.B1,'r2':self.r2(),'r':self.r()}\n",
    "    @classmethod\n",
    "    def fromfile(cls, fileName):\n",
    "        with open(fileName, 'r+') as file:\n",
    "            x1 = []\n",
    "            y1 = []\n",
    "            text = file.read()\n",
    "            for line in text.split('\\n'):\n",
    "                items=[]\n",
    "                items = line.split(',')  \n",
    "                try:\n",
    "                    x1.append(float(items[1]))\n",
    "                    y1.append(float(items[0]))\n",
    "                except IndexError:\n",
    "                    pass\n",
    "        return cls(x1,y1)"
   ]
  },
  {
   "cell_type": "code",
   "execution_count": 360,
   "metadata": {},
   "outputs": [],
   "source": [
    "test = My_regresion([1,2,3,4,5],[2,4,6,8,10])"
   ]
  },
  {
   "cell_type": "code",
   "execution_count": 361,
   "metadata": {},
   "outputs": [
    {
     "data": {
      "text/plain": [
       "{'B0': -5.9, 'B1': 155.7, 'x': [1, 2, 3, 4, 5], 'y': [2, 4, 6, 8, 10]}"
      ]
     },
     "execution_count": 361,
     "metadata": {},
     "output_type": "execute_result"
    }
   ],
   "source": [
    "test.__dict__"
   ]
  },
  {
   "cell_type": "code",
   "execution_count": 362,
   "metadata": {},
   "outputs": [
    {
     "data": {
      "text/plain": [
       "305.5"
      ]
     },
     "execution_count": 362,
     "metadata": {},
     "output_type": "execute_result"
    }
   ],
   "source": [
    "test.predict(2)"
   ]
  },
  {
   "cell_type": "code",
   "execution_count": 363,
   "metadata": {},
   "outputs": [
    {
     "data": {
      "text/plain": [
       "[149.79999999999998, 305.5, 461.2]"
      ]
     },
     "execution_count": 363,
     "metadata": {},
     "output_type": "execute_result"
    }
   ],
   "source": [
    "test.predictN([1,2,3])"
   ]
  },
  {
   "cell_type": "code",
   "execution_count": 364,
   "metadata": {},
   "outputs": [
    {
     "data": {
      "text/plain": [
       "1.0023807873148216"
      ]
     },
     "execution_count": 364,
     "metadata": {},
     "output_type": "execute_result"
    }
   ],
   "source": [
    "test.r2()"
   ]
  },
  {
   "cell_type": "code",
   "execution_count": 365,
   "metadata": {},
   "outputs": [
    {
     "data": {
      "text/plain": [
       "1.001189685981044"
      ]
     },
     "execution_count": 365,
     "metadata": {},
     "output_type": "execute_result"
    }
   ],
   "source": [
    "test.r()"
   ]
  },
  {
   "cell_type": "code",
   "execution_count": 366,
   "metadata": {},
   "outputs": [
    {
     "data": {
      "text/plain": [
       "{'b0': -5.9, 'b1': 155.7, 'r2': 1.0023807873148216, 'r': 1.001189685981044}"
      ]
     },
     "execution_count": 366,
     "metadata": {},
     "output_type": "execute_result"
    }
   ],
   "source": [
    "test.getAllRegParams()"
   ]
  },
  {
   "cell_type": "code",
   "execution_count": 367,
   "metadata": {},
   "outputs": [],
   "source": [
    "test2=My_regresion.fromfile('Book1.csv')"
   ]
  },
  {
   "cell_type": "code",
   "execution_count": 368,
   "metadata": {},
   "outputs": [
    {
     "data": {
      "text/plain": [
       "{'B0': -5.9,\n",
       " 'B1': 155.7,\n",
       " 'x': [1.0, 2.0, 3.0, 4.0, 5.0],\n",
       " 'y': [2.0, 4.0, 6.0, 8.0, 10.0]}"
      ]
     },
     "execution_count": 368,
     "metadata": {},
     "output_type": "execute_result"
    }
   ],
   "source": [
    "test2.__dict__"
   ]
  },
  {
   "cell_type": "code",
   "execution_count": 369,
   "metadata": {},
   "outputs": [
    {
     "data": {
      "text/plain": [
       "{'b0': -5.9, 'b1': 155.7, 'r2': 1.0023807873148216, 'r': 1.001189685981044}"
      ]
     },
     "execution_count": 369,
     "metadata": {},
     "output_type": "execute_result"
    }
   ],
   "source": [
    "test2.getAllRegParams()"
   ]
  },
  {
   "cell_type": "code",
   "execution_count": null,
   "metadata": {},
   "outputs": [],
   "source": []
  },
  {
   "cell_type": "code",
   "execution_count": null,
   "metadata": {},
   "outputs": [],
   "source": []
  }
 ],
 "metadata": {
  "kernelspec": {
   "display_name": "Python 3",
   "language": "python",
   "name": "python3"
  },
  "language_info": {
   "codemirror_mode": {
    "name": "ipython",
    "version": 3
   },
   "file_extension": ".py",
   "mimetype": "text/x-python",
   "name": "python",
   "nbconvert_exporter": "python",
   "pygments_lexer": "ipython3",
   "version": "3.7.7"
  }
 },
 "nbformat": 4,
 "nbformat_minor": 4
}
